{
  "cells": [
    {
      "cell_type": "markdown",
      "metadata": {
        "id": "view-in-github",
        "colab_type": "text"
      },
      "source": [
        "<a href=\"https://colab.research.google.com/github/Wertymuna/UTS_VISIKOMPUTER_SEGMENTASICITRA/blob/main/Segmentasi%20citra.ipynb\" target=\"_parent\"><img src=\"https://colab.research.google.com/assets/colab-badge.svg\" alt=\"Open In Colab\"/></a>"
      ]
    },
    {
      "cell_type": "code",
      "source": [
        "\n",
        "# Import pustaka\n",
        "import cv2\n",
        "import numpy as np\n",
        "import matplotlib.pyplot as plt\n",
        "from google.colab import files\n",
        "\n",
        "# Upload hingga 5 gambar\n",
        "print(\"Silakan unggah hingga 5 gambar:\")\n",
        "uploaded = files.upload()\n",
        "\n",
        "# Proses setiap gambar yang diunggah\n",
        "for i, filename in enumerate(uploaded.keys()):\n",
        "    if i >= 5:\n",
        "        print(f\"Melewati gambar ke-{i+1}: hanya memproses 5 gambar pertama.\")\n",
        "        break\n",
        "\n",
        "    # Baca gambar grayscale\n",
        "    img = cv2.imdecode(np.frombuffer(uploaded[filename], np.uint8), cv2.IMREAD_GRAYSCALE)\n",
        "\n",
        "    # Peningkatan kontras dengan CLAHE\n",
        "    clahe = cv2.createCLAHE(clipLimit=2.0, tileGridSize=(8,8))\n",
        "    enhanced_img = clahe.apply(img)\n",
        "\n",
        "    # Tampilkan hasil\n",
        "    plt.figure(figsize=(8, 4))\n",
        "    plt.subplot(1,2,1)\n",
        "    plt.title(f'Asli: {filename}')\n",
        "    plt.imshow(img, cmap='gray')\n",
        "    plt.axis('off')\n",
        "\n",
        "    plt.subplot(1,2,2)\n",
        "    plt.title('Setelah CLAHE')\n",
        "    plt.imshow(enhanced_img, cmap='gray')\n",
        "    plt.axis('off')\n",
        "\n",
        "    plt.tight_layout()\n",
        "    plt.show()"
      ],
      "metadata": {
        "id": "82-YXaeHQ51Z"
      },
      "execution_count": null,
      "outputs": []
    }
  ],
  "metadata": {
    "colab": {
      "name": "Selamat Datang di Colab",
      "provenance": [],
      "include_colab_link": true
    },
    "kernelspec": {
      "display_name": "Python 3",
      "name": "python3"
    }
  },
  "nbformat": 4,
  "nbformat_minor": 0
}